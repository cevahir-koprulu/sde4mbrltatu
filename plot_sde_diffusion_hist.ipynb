{
 "cells": [
  {
   "cell_type": "code",
   "execution_count": 1,
   "metadata": {},
   "outputs": [
    {
     "name": "stderr",
     "output_type": "stream",
     "text": [
      "Warning: Flow failed to import. Set the environment variable D4RL_SUPPRESS_IMPORT_ERROR=1 to suppress this message.\n",
      "No module named 'flow'\n",
      "/home/ck28372/anaconda3/envs/sde4mbrltatu/lib/python3.9/site-packages/glfw/__init__.py:916: GLFWError: (65544) b'X11: The DISPLAY environment variable is missing'\n",
      "  warnings.warn(message, GLFWError)\n",
      "Warning: CARLA failed to import. Set the environment variable D4RL_SUPPRESS_IMPORT_ERROR=1 to suppress this message.\n",
      "No module named 'carla'\n",
      "pybullet build time: May 20 2022 19:45:31\n"
     ]
    }
   ],
   "source": [
    "import jax\n",
    "import numpy as np\n",
    "import jax.numpy as jnp\n",
    "from tqdm import tqdm\n",
    "from models.sde_models.utils_for_d4rl_mujoco import get_dataset\n",
    "import matplotlib.pyplot as plt\n",
    "import gym\n",
    "import d4rl\n",
    "import pickle\n",
    "import os\n",
    "import math"
   ]
  },
  {
   "cell_type": "code",
   "execution_count": 2,
   "metadata": {},
   "outputs": [],
   "source": [
    "env_name = \"halfcheetah\"\n",
    "dataset_name = \"random-v2\"\n",
    "jax_seed = 10\n",
    "infer_batch_size = 1000\n",
    "sde_model_list = {\n",
    "    'halfcheetah-random-v2': [\"hc_rand_v2_dsc0.1_simple3_hr-2_dt-0.05_sde.pkl\"]\n",
    "}"
   ]
  },
  {
   "cell_type": "code",
   "execution_count": 3,
   "metadata": {},
   "outputs": [
    {
     "name": "stderr",
     "output_type": "stream",
     "text": [
      "/home/ck28372/anaconda3/envs/sde4mbrltatu/lib/python3.9/site-packages/gym/spaces/box.py:84: UserWarning: \u001b[33mWARN: Box bound precision lowered by casting to float32\u001b[0m\n",
      "  logger.warn(f\"Box bound precision lowered by casting to {self.dtype}\")\n"
     ]
    },
    {
     "name": "stdout",
     "output_type": "stream",
     "text": [
      "(1000, 17) (1000, 6)\n"
     ]
    },
    {
     "name": "stderr",
     "output_type": "stream",
     "text": [
      "/home/ck28372/anaconda3/envs/sde4mbrltatu/lib/python3.9/site-packages/jax/_src/pjit.py:288: DeprecationWarning: backend and device argument on jit is deprecated. You can use a `jax.sharding.Mesh` context manager or device_put the arguments before passing them to `jit`. Please see https://jax.readthedocs.io/en/latest/notebooks/Distributed_arrays_and_automatic_parallelization.html for more information.\n",
      "  warnings.warn(\n"
     ]
    }
   ],
   "source": [
    "\n",
    "if env_name == \"hopper\":\n",
    "    from models.sde_models.hopper_sde import load_learned_diffusion\n",
    "elif env_name == \"halfcheetah\":\n",
    "    from models.sde_models.halfcheetah_sde import load_learned_diffusion\n",
    "elif env_name == \"walker2d\":\n",
    "    from models.sde_models.walker2d_sde import load_learned_diffusion\n",
    "else:\n",
    "    raise NotImplementedError\n",
    "\n",
    "device = jax.devices('gpu')[0]\n",
    "env = gym.make(env_name + \"-\" + dataset_name)\n",
    "_rng = jax.random.PRNGKey(jax_seed)\n",
    "_x0 = np.tile([env.reset()], (infer_batch_size,1))\n",
    "_u0 = np.zeros((infer_batch_size, env.action_space.shape[0]), dtype=np.float32)\n",
    "print(_x0.shape, _u0.shape)\n",
    "my_sde_diffusion = load_learned_diffusion(sde_model_list[env_name + \"-\" + dataset_name][0])\n",
    "# Define the diffusion function\n",
    "def _my_diff_fn(x, u, _rng):\n",
    "    \"\"\" Return the predicted next state\n",
    "    \"\"\"\n",
    "    assert len(x.shape) == len(u.shape) == 2\n",
    "    # next_rng, _rng = jax.random.split(_rng, 2)\n",
    "    # _rng = jax.random.split(_rng, x.shape[0])\n",
    "    diff = jax.vmap(my_sde_diffusion)(x, u)\n",
    "    return diff, _rng\n",
    "_diffusion = jax.jit(_my_diff_fn, device=device)\n",
    "def augmented_diff_fn(x, u , rng):\n",
    "    batch_x = x.shape[0]\n",
    "    last_x = x[-1]\n",
    "    last_u = u[-1]\n",
    "    if batch_x < infer_batch_size:\n",
    "        last_x = np.repeat(last_x[None], infer_batch_size-batch_x, axis=0)\n",
    "        last_u = np.repeat(last_u[None], infer_batch_size-batch_x, axis=0)\n",
    "        x = np.concatenate((x, last_x), axis=0)\n",
    "        u = np.concatenate((u, last_u), axis=0)\n",
    "    diff, next_rng = _diffusion(x, u, rng)\n",
    "    if batch_x < infer_batch_size:\n",
    "        diff = diff[:batch_x,:]\n",
    "    return np.array(diff), next_rng\n",
    "diffusion_fn = augmented_diff_fn"
   ]
  },
  {
   "cell_type": "code",
   "execution_count": 6,
   "metadata": {},
   "outputs": [
    {
     "name": "stderr",
     "output_type": "stream",
     "text": [
      "load datafile: 100%|██████████| 9/9 [00:01<00:00,  4.58it/s]\n",
      "100%|██████████| 1000/1000 [00:05<00:00, 168.92it/s]\n"
     ]
    }
   ],
   "source": [
    "dataset = get_dataset(env_name + \"-\" + dataset_name)\n",
    "diffs = None\n",
    "number_of_samples = dataset['observations'].shape[0]\n",
    "next_rng = _rng\n",
    "for i in tqdm(range(math.ceil(number_of_samples//infer_batch_size))):\n",
    "    obs_batch = dataset['observations'][i*infer_batch_size:(i+1)*infer_batch_size]\n",
    "    act_batch = dataset['actions'][i*infer_batch_size:(i+1)*infer_batch_size]\n",
    "    batch_size = obs_batch.shape[0]\n",
    "    if batch_size != infer_batch_size:\n",
    "        obs_batch = np.concatenate([obs_batch, np.zeros((infer_batch_size - batch_size, obs_batch.shape[1]))], axis=0)\n",
    "        act_batch = np.concatenate([act_batch, np.zeros((infer_batch_size - batch_size, act_batch.shape[1]))], axis=0)\n",
    "    pred_diff, next_rng = diffusion_fn(dataset['observations'][i*infer_batch_size:(i+1)*infer_batch_size], \n",
    "                                      dataset['actions'][i*infer_batch_size:(i+1)*infer_batch_size],\n",
    "                                      next_rng)\n",
    "    if diffs is None:\n",
    "        diffs = pred_diff\n",
    "    else:\n",
    "        diffs = np.concatenate((diffs, pred_diff), axis=0)\n",
    "    \n",
    "diffs_sum = np.sum(np.array(diffs), axis=-1)\n",
    "with open(os.path.join(\"models\", \"sde_models\", \"learned_sde_models\", f\"{sde_model_list[env_name + '-' + dataset_name][0][:-4]}_diffsum.pkl\"), \"wb\") as f:\n",
    "    pickle.dump(diffs_sum, f)"
   ]
  },
  {
   "cell_type": "code",
   "execution_count": 9,
   "metadata": {},
   "outputs": [
    {
     "data": {
      "image/png": "[encoded data removed]",
      "text/plain": [
       "<Figure size 700x500 with 1 Axes>"
      ]
     },
     "metadata": {},
     "output_type": "display_data"
    }
   ],
   "source": [
    "%matplotlib inline\n",
    "plt.rcParams.update({'figure.figsize':(7,5), 'figure.dpi':100})\n",
    "\n",
    "# Plot Histogram on x\n",
    "plt.hist(diffs_sum, bins=100, density=True, alpha=0.6, color='g')\n",
    "plt.yscale('log', nonpositive='clip')\n",
    "plt.gca().set(title='Frequency Histogram', ylabel='Frequency')\n",
    "plt.savefig(os.path.join(\"models\", \"sde_models\", \"learned_sde_models\", f\"{sde_model_list[env_name + '-' + dataset_name][0][:-4]}_diffsum_hist.png\"))"
   ]
  }
 ],
 "metadata": {
  "kernelspec": {
   "display_name": "sde4mbrltatu",
   "language": "python",
   "name": "python3"
  },
  "language_info": {
   "codemirror_mode": {
    "name": "ipython",
    "version": 3
   },
   "file_extension": ".py",
   "mimetype": "text/x-python",
   "name": "python",
   "nbconvert_exporter": "python",
   "pygments_lexer": "ipython3",
   "version": "3.9.17"
  }
 },
 "nbformat": 4,
 "nbformat_minor": 2
}
